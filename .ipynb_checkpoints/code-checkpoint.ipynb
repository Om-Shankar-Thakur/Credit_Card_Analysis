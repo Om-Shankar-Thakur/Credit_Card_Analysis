{
 "cells": [
  {
   "cell_type": "code",
   "execution_count": 14,
   "metadata": {},
   "outputs": [],
   "source": [
    "import pandas as pd \n",
    "import numpy as np "
   ]
  },
  {
   "cell_type": "code",
   "execution_count": 15,
   "metadata": {},
   "outputs": [],
   "source": [
    "# Replace 'Credit_Banking_Project.xlsx' with the correct file name if it's different\n",
    "file_name = 'Credit.xls'"
   ]
  },
  {
   "cell_type": "code",
   "execution_count": 16,
   "metadata": {},
   "outputs": [],
   "source": [
    "# Load data\n",
    "customer_acquisition = pd.read_excel(file_name, sheet_name='Customer Acqusition')\n",
    "spend = pd.read_excel(file_name, sheet_name='Spend')\n",
    "repayment = pd.read_excel(file_name, sheet_name='Repayment')\n"
   ]
  },
  {
   "cell_type": "code",
   "execution_count": 17,
   "metadata": {},
   "outputs": [
    {
     "name": "stdout",
     "output_type": "stream",
     "text": [
      "['Customer Acqusition', 'Spend', 'Repayment']\n"
     ]
    }
   ],
   "source": [
    "# Load the Excel file\n",
    "file_name = 'Credit.xls'\n",
    "xl = pd.ExcelFile(file_name)\n",
    "\n",
    "# Print sheet names\n",
    "print(xl.sheet_names)"
   ]
  },
  {
   "cell_type": "code",
   "execution_count": 18,
   "metadata": {},
   "outputs": [
    {
     "name": "stdout",
     "output_type": "stream",
     "text": [
      "   Sl No: Customer        Age       City Credit Card Product   Limit Company  \\\n",
      "0       1       A1   0.928521  BANGALORE                Gold  500000      C1   \n",
      "1       2       A2  35.534551   CALCUTTA              Silver  100000      C2   \n",
      "2       3       A3  11.559307     COCHIN            Platimum   10000      C3   \n",
      "3       4       A4  45.820278     BOMBAY            Platimum   10001      C4   \n",
      "4       5       A5  69.663948  BANGALORE            Platimum   10002      C5   \n",
      "\n",
      "         Segment  \n",
      "0  Self Employed  \n",
      "1   Salaried_MNC  \n",
      "2   Salaried_Pvt  \n",
      "3           Govt  \n",
      "4  Normal Salary  \n",
      "   Sl No: Costomer      Month       Type         Amount\n",
      "0       1       A1 2004-01-12  JEWELLERY  473775.834869\n",
      "1       2       A1 2004-01-03      PETRO  335578.666019\n",
      "2       3       A1 2004-01-15    CLOTHES  371040.941912\n",
      "3       4       A1 2004-01-25       FOOD  141177.813256\n",
      "4       5       A1 2005-01-17     CAMERA  398403.771812\n",
      "   SL No: Costomer      Month         Amount\n",
      "0       1       A1 2004-01-12  331844.007374\n",
      "1       2       A1 2004-01-03  441139.807335\n",
      "2       3       A1 2004-01-15   32480.004009\n",
      "3       4       A1 2004-01-25   90636.966534\n",
      "4       5       A1 2005-01-17    1581.969829\n"
     ]
    }
   ],
   "source": [
    "# Display the DataFrame\n",
    "print(customer_acquisition.head())\n",
    "print(spend.head())\n",
    "print(repayment.head())"
   ]
  },
  {
   "cell_type": "code",
   "execution_count": 19,
   "metadata": {},
   "outputs": [],
   "source": [
    "# Sanity Check: Handle age < 18\n",
    "customer_acquisition['Age'] = customer_acquisition['Age'].apply(lambda x: np.nan if x < 18 else x)\n",
    "customer_acquisition.dropna(subset=['Age'], inplace=True)"
   ]
  },
  {
   "cell_type": "code",
   "execution_count": 20,
   "metadata": {},
   "outputs": [],
   "source": [
    "# Format dates\n",
    "spend['Month'] = pd.to_datetime(spend['Month'], format='%d-%b-%y')\n",
    "repayment['Month'] = pd.to_datetime(repayment['Month'], format='%d-%b-%y')"
   ]
  },
  {
   "cell_type": "code",
   "execution_count": 21,
   "metadata": {},
   "outputs": [],
   "source": [
    "# Monthly spend\n",
    "monthly_spend = spend.groupby(['Costomer', spend['Month'].dt.to_period('M')])['Amount'].sum().reset_index()\n",
    "monthly_spend.rename(columns={'Costomer': 'Customer', 'Month': 'Period'}, inplace=True)\n",
    "\n",
    "\n",
    "\n"
   ]
  },
  {
   "cell_type": "code",
   "execution_count": 25,
   "metadata": {},
   "outputs": [],
   "source": [
    "# Monthly repayment\n",
    "monthly_repayment = repayment.groupby(['Costomer', repayment['Month'].dt.to_period('M')])['Amount'].sum().reset_index()\n",
    "monthly_repayment.rename(columns={'Costomer': 'Customer', 'Month': 'Period'}, inplace=True)\n"
   ]
  },
  {
   "cell_type": "code",
   "execution_count": 22,
   "metadata": {},
   "outputs": [],
   "source": [
    "\n",
    "\n",
    "# Merge with customer acquisition to get credit limit\n",
    "monthly_spend = monthly_spend.merge(customer_acquisition[['Customer', 'Limit']], on='Customer', how='left')\n",
    "\n",
    "# Customers spending more than their Credit Limit\n",
    "monthly_spend['Over Limit'] = monthly_spend['Amount'] > monthly_spend['Limit']\n",
    "over_spenders = monthly_spend[monthly_spend['Over Limit']]\n",
    "\n",
    "# Highest paying 10 customers\n",
    "top_10_customers = monthly_spend.groupby('Customer')['Amount'].sum().nlargest(10).reset_index()\n",
    "\n",
    "# Spending by segment\n",
    "customer_spend = monthly_spend.merge(customer_acquisition[['Customer', 'Segment']], on='Customer', how='left')\n",
    "spending_by_segment = customer_spend.groupby('Segment')['Amount'].sum().reset_index()\n",
    "\n"
   ]
  },
  {
   "cell_type": "code",
   "execution_count": 23,
   "metadata": {},
   "outputs": [],
   "source": [
    "# Spending by age group\n",
    "age_bins = [18, 30, 40, 50, 60, np.inf]\n",
    "age_labels = ['18-29', '30-39', '40-49', '50-59', '60+']\n",
    "customer_acquisition['Age Group'] = pd.cut(customer_acquisition['Age'], bins=age_bins, labels=age_labels)\n",
    "customer_spend = customer_spend.merge(customer_acquisition[['Customer', 'Age Group']], on='Customer', how='left')\n",
    "spending_by_age_group = customer_spend.groupby('Age Group')['Amount'].sum().reset_index()\n",
    "\n"
   ]
  },
  {
   "cell_type": "code",
   "execution_count": 29,
   "metadata": {},
   "outputs": [
    {
     "name": "stdout",
     "output_type": "stream",
     "text": [
      "    Customer   Period        Amount     Limit  Over Limit        Repaid  \\\n",
      "0         A1  2004-01  1.511173e+06       NaN       False  3.831938e+06   \n",
      "1         A1  2004-02  4.138111e+04       NaN       False  3.831938e+06   \n",
      "2         A1  2004-05  1.311966e+05       NaN       False  3.831938e+06   \n",
      "3         A1  2005-01  3.984038e+05       NaN       False  3.831938e+06   \n",
      "4         A1  2005-02  1.404193e+06       NaN       False  3.831938e+06   \n",
      "..       ...      ...           ...       ...         ...           ...   \n",
      "802      A95  2004-01  3.478339e+05  500000.0       False  7.510949e+04   \n",
      "803      A96  2004-01  3.203635e+05  100000.0        True  1.101390e+05   \n",
      "804      A97  2004-01  1.643300e+05   10000.0        True  1.746064e+05   \n",
      "805      A98  2004-01  8.748351e+04   10001.0        True  9.780260e+04   \n",
      "806      A99  2004-01  4.760204e+05   10002.0        True  3.585899e+05   \n",
      "\n",
      "       Due Amount       Interest  \n",
      "0   -2.320765e+06  -67302.185224  \n",
      "1   -3.790557e+06 -109926.142796  \n",
      "2   -3.700741e+06 -107321.493820  \n",
      "3   -3.433534e+06  -99572.485484  \n",
      "4   -2.427745e+06  -70404.596651  \n",
      "..            ...            ...  \n",
      "802  2.727244e+05    7909.007232  \n",
      "803  2.102245e+05    6096.511125  \n",
      "804 -1.027635e+04    -298.014150  \n",
      "805 -1.031909e+04    -299.253523  \n",
      "806  1.174305e+05    3405.483407  \n",
      "\n",
      "[807 rows x 8 columns]\n"
     ]
    }
   ],
   "source": [
    "\n",
    "\n",
    "# Aggregate repayment amounts for each customer in monthly_repayment\n",
    "total_repayment = monthly_repayment.groupby('Customer')['Amount'].sum().reset_index()\n",
    "\n",
    "# Map total repayment amounts to monthly_spend\n",
    "monthly_spend['Repaid'] = monthly_spend['Customer'].map(total_repayment.set_index('Customer')['Amount'])\n",
    "\n",
    "# Calculate due amount and impose interest\n",
    "monthly_spend['Due Amount'] = monthly_spend['Amount'] - monthly_spend['Repaid'].fillna(0)\n",
    "monthly_spend['Interest'] = monthly_spend['Due Amount'] * 0.029\n",
    "\n",
    "# Display results\n",
    "print(monthly_spend)"
   ]
  },
  {
   "cell_type": "code",
   "execution_count": 34,
   "metadata": {},
   "outputs": [
    {
     "name": "stdout",
     "output_type": "stream",
     "text": [
      "Monthly Spend:\n",
      "    Customer   Period        Amount     Limit  Over Limit        Repaid  \\\n",
      "0         A1  2004-01  1.511173e+06       NaN       False  3.831938e+06   \n",
      "1         A1  2004-02  4.138111e+04       NaN       False  3.831938e+06   \n",
      "2         A1  2004-05  1.311966e+05       NaN       False  3.831938e+06   \n",
      "3         A1  2005-01  3.984038e+05       NaN       False  3.831938e+06   \n",
      "4         A1  2005-02  1.404193e+06       NaN       False  3.831938e+06   \n",
      "..       ...      ...           ...       ...         ...           ...   \n",
      "802      A95  2004-01  3.478339e+05  500000.0       False  7.510949e+04   \n",
      "803      A96  2004-01  3.203635e+05  100000.0        True  1.101390e+05   \n",
      "804      A97  2004-01  1.643300e+05   10000.0        True  1.746064e+05   \n",
      "805      A98  2004-01  8.748351e+04   10001.0        True  9.780260e+04   \n",
      "806      A99  2004-01  4.760204e+05   10002.0        True  3.585899e+05   \n",
      "\n",
      "       Due Amount       Interest  \n",
      "0   -2.320765e+06  -67302.185224  \n",
      "1   -3.790557e+06 -109926.142796  \n",
      "2   -3.700741e+06 -107321.493820  \n",
      "3   -3.433534e+06  -99572.485484  \n",
      "4   -2.427745e+06  -70404.596651  \n",
      "..            ...            ...  \n",
      "802  2.727244e+05    7909.007232  \n",
      "803  2.102245e+05    6096.511125  \n",
      "804 -1.027635e+04    -298.014150  \n",
      "805 -1.031909e+04    -299.253523  \n",
      "806  1.174305e+05    3405.483407  \n",
      "\n",
      "[807 rows x 8 columns]\n",
      "Monthly Repayment:\n",
      "    Customer   Period        Amount\n",
      "0         A1  2004-01  1.362775e+06\n",
      "1         A1  2004-02  1.911800e+05\n",
      "2         A1  2005-01  1.581970e+03\n",
      "3         A1  2005-02  1.199808e+06\n",
      "4         A1  2005-07  3.005817e+05\n",
      "..       ...      ...           ...\n",
      "793      A95  2004-01  7.510949e+04\n",
      "794      A96  2004-01  1.101390e+05\n",
      "795      A97  2004-01  1.746064e+05\n",
      "796      A98  2004-01  9.780260e+04\n",
      "797      A99  2004-01  3.585899e+05\n",
      "\n",
      "[798 rows x 3 columns]\n",
      "Customers spending more than their Credit Limit:\n",
      "    Customer   Period        Amount     Limit  Over Limit\n",
      "21       A11  2004-01  8.195447e+05  500000.0        True\n",
      "22       A11  2004-02  5.019403e+05  500000.0        True\n",
      "47       A13  2004-01  6.336622e+05  500000.0        True\n",
      "51       A13  2005-02  2.032310e+06  500000.0        True\n",
      "52       A13  2005-05  5.986687e+05  500000.0        True\n",
      "..       ...      ...           ...       ...         ...\n",
      "796       A9  2006-07  4.762692e+05  100003.0        True\n",
      "803      A96  2004-01  3.203635e+05  100000.0        True\n",
      "804      A97  2004-01  1.643300e+05   10000.0        True\n",
      "805      A98  2004-01  8.748351e+04   10001.0        True\n",
      "806      A99  2004-01  4.760204e+05   10002.0        True\n",
      "\n",
      "[391 rows x 5 columns]\n",
      "Top 10 Customers by Spend:\n",
      "  Customer        Amount\n",
      "0      A22  9.637819e+06\n",
      "1      A40  9.595040e+06\n",
      "2      A60  9.317672e+06\n",
      "3      A61  9.148468e+06\n",
      "4      A48  9.056652e+06\n",
      "5      A42  8.665639e+06\n",
      "6      A41  8.583532e+06\n",
      "7      A39  8.526678e+06\n",
      "8      A45  8.498612e+06\n",
      "9      A13  8.042339e+06\n",
      "Spending by Segment:\n",
      "         Segment        Amount\n",
      "0           Govt  6.046714e+07\n",
      "1  Normal Salary  7.343411e+07\n",
      "2   Salaried_MNC  5.487624e+07\n",
      "3   Salaried_Pvt  4.865442e+07\n",
      "4  Self Employed  5.048681e+07\n",
      "Spending by Age Group:\n",
      "  Age Group        Amount\n",
      "0     18-29  4.608874e+07\n",
      "1     30-39  1.856688e+07\n",
      "2     40-49  4.227948e+07\n",
      "3     50-59  4.688844e+07\n",
      "4       60+  1.340952e+08\n",
      "Category with Highest Spend:\n",
      "            Type        Amount\n",
      "0     AIR TICKET  3.743547e+07\n",
      "1           AUTO  1.050509e+07\n",
      "2           BIKE  1.315264e+07\n",
      "3     BUS TICKET  2.490590e+07\n",
      "4         CAMERA  4.372101e+07\n",
      "5            CAR  7.018278e+06\n",
      "6        CLOTHES  2.479110e+07\n",
      "7           FOOD  3.829646e+07\n",
      "8      JEWELLERY  2.524795e+07\n",
      "9   MOVIE TICKET  1.878458e+07\n",
      "10         PETRO  5.102258e+07\n",
      "11        RENTAL  2.091467e+07\n",
      "12       SANDALS  6.325017e+06\n",
      "13      SHOPPING  2.741868e+07\n",
      "14  TRAIN TICKET  3.181262e+07\n"
     ]
    }
   ],
   "source": [
    "\n",
    "\n",
    "# Category with highest spend\n",
    "spending_by_category = spend.groupby('Type')['Amount'].sum().reset_index()\n",
    "\n",
    "\n",
    "\n",
    "# Output results\n",
    "print(\"Monthly Spend:\")\n",
    "print(monthly_spend)\n",
    "print(\"Monthly Repayment:\")\n",
    "print(monthly_repayment)\n",
    "print(\"Customers spending more than their Credit Limit:\")\n",
    "print(over_spenders)\n",
    "print(\"Top 10 Customers by Spend:\")\n",
    "print(top_10_customers)\n",
    "print(\"Spending by Segment:\")\n",
    "print(spending_by_segment)\n",
    "print(\"Spending by Age Group:\")\n",
    "print(spending_by_age_group)\n",
    "# print(\"Most Profitable Segment:\")\n",
    "# print(profit_by_segment)\n",
    "print(\"Category with Highest Spend:\")\n",
    "print(spending_by_category)\n"
   ]
  },
  {
   "cell_type": "code",
   "execution_count": 35,
   "metadata": {},
   "outputs": [],
   "source": [
    "# Write to Excel\n",
    "with pd.ExcelWriter('banking_analysis_results.xlsx') as writer:\n",
    "    monthly_spend.to_excel(writer, sheet_name='Monthly Spend', index=False)\n",
    "    monthly_repayment.to_excel(writer, sheet_name='Monthly Repayment', index=False)\n",
    "    top_10_customers.to_excel(writer, sheet_name='Top 10 Customers', index=False)\n",
    "    spending_by_segment.to_excel(writer, sheet_name='Spending by Segment', index=False)\n",
    "    spending_by_age_group.to_excel(writer, sheet_name='Spending by Age Group', index=False)\n",
    "    spending_by_category.to_excel(writer, sheet_name='Spending by Category', index=False)\n"
   ]
  },
  {
   "cell_type": "code",
   "execution_count": null,
   "metadata": {},
   "outputs": [],
   "source": []
  }
 ],
 "metadata": {
  "kernelspec": {
   "display_name": "Python 3 (ipykernel)",
   "language": "python",
   "name": "python3"
  },
  "language_info": {
   "codemirror_mode": {
    "name": "ipython",
    "version": 3
   },
   "file_extension": ".py",
   "mimetype": "text/x-python",
   "name": "python",
   "nbconvert_exporter": "python",
   "pygments_lexer": "ipython3",
   "version": "3.9.13"
  }
 },
 "nbformat": 4,
 "nbformat_minor": 2
}
