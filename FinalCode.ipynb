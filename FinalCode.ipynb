{
 "cells": [
  {
   "cell_type": "markdown",
   "id": "54f9b9c1",
   "metadata": {},
   "source": [
    "Credit Card Data Analysis Project\n",
    "\n",
    "This script performs various data analysis tasks on credit card data including:\n",
    "1. Monthly spend of each customer.\n",
    "2. Monthly repayment of each customer.\n",
    "3. Identification of the highest paying 10 customers.\n",
    "4. Segment spending analysis.\n",
    "5. Age group spending analysis.\n",
    "6. Profitability analysis by segment.\n",
    "7. Category spending analysis.\n",
    "8. Imposing interest on due amounts.\n",
    "9. Monthly profit calculation for the bank.\n",
    "\n",
    "Data: 'Credit.xls' containing three sheets:\n",
    "- Customer Acquisition\n",
    "- Spend\n",
    "- Repayment\n"
   ]
  },
  {
   "cell_type": "code",
   "execution_count": 27,
   "id": "2fa6a47d",
   "metadata": {},
   "outputs": [],
   "source": [
    "import pandas as pd \n",
    "import numpy as np \n",
    "import matplotlib.pyplot as plt\n",
    "import seaborn as sns"
   ]
  },
  {
   "cell_type": "code",
   "execution_count": 2,
   "id": "f520c016",
   "metadata": {},
   "outputs": [],
   "source": [
    "file_name = 'Credit.xls'"
   ]
  },
  {
   "cell_type": "code",
   "execution_count": 3,
   "id": "5b50521f",
   "metadata": {},
   "outputs": [],
   "source": [
    "# Load data\n",
    "customer_acquisition = pd.read_excel(file_name, sheet_name='Customer Acqusition')\n",
    "spend = pd.read_excel(file_name, sheet_name='Spend')\n",
    "repayment = pd.read_excel(file_name, sheet_name='Repayment')\n"
   ]
  },
  {
   "cell_type": "code",
   "execution_count": 4,
   "id": "e8a18285",
   "metadata": {},
   "outputs": [
    {
     "name": "stdout",
     "output_type": "stream",
     "text": [
      "   Sl No: Customer        Age       City Credit Card Product   Limit Company  \\\n",
      "0       1       A1   0.928521  BANGALORE                Gold  500000      C1   \n",
      "1       2       A2  35.534551   CALCUTTA              Silver  100000      C2   \n",
      "2       3       A3  11.559307     COCHIN            Platimum   10000      C3   \n",
      "3       4       A4  45.820278     BOMBAY            Platimum   10001      C4   \n",
      "4       5       A5  69.663948  BANGALORE            Platimum   10002      C5   \n",
      "\n",
      "         Segment  \n",
      "0  Self Employed  \n",
      "1   Salaried_MNC  \n",
      "2   Salaried_Pvt  \n",
      "3           Govt  \n",
      "4  Normal Salary  \n",
      "   Sl No: Costomer      Month       Type         Amount\n",
      "0       1       A1 2004-01-12  JEWELLERY  473775.834869\n",
      "1       2       A1 2004-01-03      PETRO  335578.666019\n",
      "2       3       A1 2004-01-15    CLOTHES  371040.941912\n",
      "3       4       A1 2004-01-25       FOOD  141177.813256\n",
      "4       5       A1 2005-01-17     CAMERA  398403.771812\n",
      "   SL No: Costomer      Month         Amount\n",
      "0       1       A1 2004-01-12  331844.007374\n",
      "1       2       A1 2004-01-03  441139.807335\n",
      "2       3       A1 2004-01-15   32480.004009\n",
      "3       4       A1 2004-01-25   90636.966534\n",
      "4       5       A1 2005-01-17    1581.969829\n"
     ]
    }
   ],
   "source": [
    "# Display the DataFrame\n",
    "print(customer_acquisition.head())\n",
    "print(spend.head())\n",
    "print(repayment.head())"
   ]
  },
  {
   "cell_type": "code",
   "execution_count": 6,
   "id": "bb6c4eb8",
   "metadata": {},
   "outputs": [],
   "source": [
    "# 1. Provide a meaningful treatment to all values where age is less than 18\n",
    "# Assume 'age' column exists in customer_acquisition DataFrame\n",
    "customer_acquisition['Age'] = customer_acquisition['Age'].apply(lambda x: np.nan if x < 18 else x)\n",
    "customer_acquisition['Age'].fillna(customer_acquisition['Age'].median(), inplace=True)\n"
   ]
  },
  {
   "cell_type": "code",
   "execution_count": 7,
   "id": "b033fa15",
   "metadata": {},
   "outputs": [
    {
     "name": "stdout",
     "output_type": "stream",
     "text": [
      "Empty DataFrame\n",
      "Columns: [Sl No:, Customer, Age, City, Credit Card Product, Limit, Company, Segment]\n",
      "Index: []\n"
     ]
    }
   ],
   "source": [
    "# Verify the treatment\n",
    "print(customer_acquisition[customer_acquisition['Age'] < 18])"
   ]
  },
  {
   "cell_type": "code",
   "execution_count": 14,
   "id": "c7dbf5d0",
   "metadata": {},
   "outputs": [],
   "source": [
    "\n",
    "# Correct column names if necessary\n",
    "spend.rename(columns={'Costomer': 'Customer'}, inplace=True)\n",
    "repayment.rename(columns={'Costomer': 'Customer'}, inplace=True)\n"
   ]
  },
  {
   "cell_type": "code",
   "execution_count": 15,
   "id": "0ac6de4d",
   "metadata": {},
   "outputs": [
    {
     "name": "stdout",
     "output_type": "stream",
     "text": [
      "Customer Acquisition columns: Index(['Sl No:', 'Customer', 'Age', 'City', 'Credit Card Product', 'Limit',\n",
      "       'Company', 'Segment'],\n",
      "      dtype='object')\n",
      "Spend columns: Index(['Sl No:', 'Customer', 'Month', 'Type', 'Amount'], dtype='object')\n",
      "Repayment columns: Index(['SL No:', 'Customer', 'Month', 'Amount'], dtype='object')\n"
     ]
    }
   ],
   "source": [
    "\n",
    "# Print column names to verify\n",
    "print(\"Customer Acquisition columns:\", customer_acquisition.columns)\n",
    "print(\"Spend columns:\", spend.columns)\n",
    "print(\"Repayment columns:\", repayment.columns)\n"
   ]
  },
  {
   "cell_type": "code",
   "execution_count": 16,
   "id": "71e6a60d",
   "metadata": {},
   "outputs": [],
   "source": [
    "\n",
    "# Check existence of required columns\n",
    "required_columns_customer_acquisition = ['Customer', 'Limit', 'Age']\n",
    "required_columns_spend = ['Customer', 'Month', 'Amount']\n",
    "required_columns_repayment = ['Customer', 'Month', 'Amount']\n",
    "\n"
   ]
  },
  {
   "cell_type": "code",
   "execution_count": 17,
   "id": "6dddc7be",
   "metadata": {},
   "outputs": [],
   "source": [
    "missing_columns_customer_acquisition = [col for col in required_columns_customer_acquisition if col not in customer_acquisition.columns]\n",
    "missing_columns_spend = [col for col in required_columns_spend if col not in spend.columns]\n",
    "missing_columns_repayment = [col for col in required_columns_repayment if col not in repayment.columns]\n",
    "\n"
   ]
  },
  {
   "cell_type": "code",
   "execution_count": 22,
   "id": "76ea849d",
   "metadata": {},
   "outputs": [
    {
     "name": "stdout",
     "output_type": "stream",
     "text": [
      "Customers who have spent more than their Credit Limit in any particular month:\n",
      "     Customer      Month    Total Spend   Limit\n",
      "1          A1 2004-01-12  526000.887677  500000\n",
      "9          A1 2005-02-23  704755.260545  500000\n",
      "15        A10 2004-01-15  609828.254814  500000\n",
      "33        A11 2004-01-25  676996.216426  500000\n",
      "34        A11 2004-02-05  501940.267611  500000\n",
      "...       ...        ...            ...     ...\n",
      "1246       A9 2006-07-03  476269.151151  100003\n",
      "1253      A96 2004-01-25  320363.535698  100000\n",
      "1254      A97 2004-01-12  164330.042270   10000\n",
      "1255      A98 2004-01-03   87483.511992   10001\n",
      "1256      A99 2004-01-15  476020.386647   10002\n",
      "\n",
      "[595 rows x 4 columns]\n",
      "Monthly spend of each customer:\n",
      "     Customer      Month    Total Spend   Limit\n",
      "0          A1 2004-01-03  335578.666019  500000\n",
      "1          A1 2004-01-12  526000.887677  500000\n",
      "2          A1 2004-01-15  371040.941912  500000\n",
      "3          A1 2004-01-25  278552.250673  500000\n",
      "4          A1 2004-02-05   41381.105869  500000\n",
      "...       ...        ...            ...     ...\n",
      "1252      A95 2004-01-15  347833.879524  500000\n",
      "1253      A96 2004-01-25  320363.535698  100000\n",
      "1254      A97 2004-01-12  164330.042270   10000\n",
      "1255      A98 2004-01-03   87483.511992   10001\n",
      "1256      A99 2004-01-15  476020.386647   10002\n",
      "\n",
      "[1257 rows x 4 columns]\n",
      "Monthly repayment of each customer:\n",
      "     Customer      Month  Total Repayment\n",
      "0          A1 2004-01-03    441139.807335\n",
      "1          A1 2004-01-12    721918.797363\n",
      "2          A1 2004-01-15    109079.663890\n",
      "3          A1 2004-01-25     90636.966534\n",
      "4          A1 2004-02-05    191180.011618\n",
      "...       ...        ...              ...\n",
      "1276      A95 2004-01-15     75109.492228\n",
      "1277      A96 2004-01-25    110139.014148\n",
      "1278      A97 2004-01-12    174606.392283\n",
      "1279      A98 2004-01-03     97802.598995\n",
      "1280      A99 2004-01-15    358589.924345\n",
      "\n",
      "[1281 rows x 3 columns]\n",
      "Highest paying 10 customers:\n",
      "   Customer        Amount\n",
      "15      A22  9.637819e+06\n",
      "35      A40  9.595040e+06\n",
      "57      A60  9.317672e+06\n",
      "58      A61  9.148468e+06\n",
      "43      A48  9.056652e+06\n",
      "37      A42  8.665639e+06\n",
      "36      A41  8.583532e+06\n",
      "33      A39  8.526678e+06\n",
      "40      A45  8.498612e+06\n",
      "5       A13  8.042339e+06\n",
      "Segment spending:\n",
      "         Segment        Amount\n",
      "0           Govt  6.732563e+07\n",
      "1  Normal Salary  1.077071e+08\n",
      "2   Salaried_MNC  6.363949e+07\n",
      "3   Salaried_Pvt  7.170431e+07\n",
      "4  Self Employed  7.097548e+07\n",
      "Age group spending:\n",
      "  Age Group        Amount\n",
      "0     18-30  4.608874e+07\n",
      "1     31-40  1.856688e+07\n",
      "2     41-50  4.227948e+07\n",
      "3     51-60  1.403218e+08\n",
      "4     61-70  7.143245e+07\n",
      "5     71-80  6.266275e+07\n",
      "6     81-90  0.000000e+00\n",
      "Most profitable segment:\n",
      "         Segment         Profit\n",
      "0           Govt  -40716.734647\n",
      "1  Normal Salary  128152.039249\n",
      "2   Salaried_MNC   99151.550159\n",
      "3   Salaried_Pvt  190167.549838\n",
      "4  Self Employed   41963.829872\n",
      "Category spending:\n",
      "            Type        Amount\n",
      "0     AIR TICKET  3.743547e+07\n",
      "1           AUTO  1.050509e+07\n",
      "2           BIKE  1.315264e+07\n",
      "3     BUS TICKET  2.490590e+07\n",
      "4         CAMERA  4.372101e+07\n",
      "5            CAR  7.018278e+06\n",
      "6        CLOTHES  2.479110e+07\n",
      "7           FOOD  3.829646e+07\n",
      "8      JEWELLERY  2.524795e+07\n",
      "9   MOVIE TICKET  1.878458e+07\n",
      "10         PETRO  5.102258e+07\n",
      "11        RENTAL  2.091467e+07\n",
      "12       SANDALS  6.325017e+06\n",
      "13      SHOPPING  2.741868e+07\n",
      "14  TRAIN TICKET  3.181262e+07\n",
      "Monthly profit for the bank:\n",
      "        Month        Profit\n",
      "0  2004-01-03  35205.559899\n",
      "1  2004-01-12 -29763.601989\n",
      "2  2004-01-15 -24325.757615\n",
      "3  2004-01-25  97443.725763\n",
      "4  2004-02-05  30881.621938\n",
      "..        ...           ...\n",
      "69 2006-09-03   5352.339432\n",
      "70 2006-10-03   7203.743412\n",
      "71 2006-11-03  10746.975353\n",
      "72 2006-11-21  10024.051960\n",
      "73 2006-12-03 -13847.267431\n",
      "\n",
      "[74 rows x 2 columns]\n"
     ]
    }
   ],
   "source": [
    "if not missing_columns_customer_acquisition and not missing_columns_spend and not missing_columns_repayment:\n",
    "    # 1. Provide a meaningful treatment to all values where age is less than 18\n",
    "    if 'Age' in customer_acquisition.columns:\n",
    "        customer_acquisition['Age'] = customer_acquisition['Age'].apply(lambda x: np.nan if x < 18 else x)\n",
    "        customer_acquisition['Age'].fillna(customer_acquisition['Age'].median(), inplace=True)\n",
    "\n",
    "    # 2. Check if there is any customer who has spent more than his/her Credit Limit for any particular month\n",
    "    spend = spend.merge(customer_acquisition[['Customer', 'Limit']], on='Customer', how='left')\n",
    "\n",
    "    monthly_spend = spend.groupby(['Customer', 'Month']).agg({'Amount': 'sum'}).reset_index()\n",
    "    monthly_spend = monthly_spend.rename(columns={'Amount': 'Total Spend'})\n",
    "    monthly_spend = monthly_spend.merge(customer_acquisition[['Customer', 'Limit']], on='Customer', how='left')\n",
    "    overspend = monthly_spend[monthly_spend['Total Spend'] > monthly_spend['Limit']]\n",
    "\n",
    "    print(\"Customers who have spent more than their Credit Limit in any particular month:\")\n",
    "    print(overspend)\n",
    "\n",
    "    # 3. Monthly spend of each customer\n",
    "    print(\"Monthly spend of each customer:\")\n",
    "    print(monthly_spend)\n",
    "\n",
    "    # 4. Monthly repayment of each customer\n",
    "    monthly_repayment = repayment.groupby(['Customer', 'Month']).agg({'Amount': 'sum'}).reset_index()\n",
    "    monthly_repayment = monthly_repayment.rename(columns={'Amount': 'Total Repayment'})\n",
    "    print(\"Monthly repayment of each customer:\")\n",
    "    print(monthly_repayment)\n",
    "\n",
    "    # 5. Highest paying 10 customers\n",
    "    total_spend_per_customer = spend.groupby('Customer').agg({'Amount': 'sum'}).reset_index()\n",
    "    highest_paying_customers = total_spend_per_customer.sort_values(by='Amount', ascending=False).head(10)\n",
    "    print(\"Highest paying 10 customers:\")\n",
    "    print(highest_paying_customers)\n",
    "\n",
    "    # 6. People in which segment are spending more money\n",
    "    spend_segment = spend.merge(customer_acquisition[['Customer', 'Segment']], on='Customer', how='left')\n",
    "    segment_spending = spend_segment.groupby('Segment').agg({'Amount': 'sum'}).reset_index()\n",
    "    print(\"Segment spending:\")\n",
    "    print(segment_spending)\n",
    "\n",
    "    # 7. Which age group is spending more money\n",
    "    spend_age = spend.merge(customer_acquisition[['Customer', 'Age']], on='Customer', how='left')\n",
    "    spend_age['Age Group'] = pd.cut(spend_age['Age'], bins=[18, 30, 40, 50, 60, 70, 80, 90], labels=['18-30', '31-40', '41-50', '51-60', '61-70', '71-80', '81-90'])\n",
    "    age_group_spending = spend_age.groupby('Age Group').agg({'Amount': 'sum'}).reset_index()\n",
    "    print(\"Age group spending:\")\n",
    "    print(age_group_spending)\n",
    "\n",
    "    # 8. Most profitable segment\n",
    "    # First, calculate profit per customer per month\n",
    "    spend_repayment = monthly_spend.merge(monthly_repayment, on=['Customer', 'Month'], how='left')\n",
    "    spend_repayment['Due'] = spend_repayment['Total Spend'] - spend_repayment['Total Repayment']\n",
    "    spend_repayment['Interest'] = spend_repayment['Due'] * 0.029\n",
    "    spend_repayment['Profit'] = spend_repayment['Interest']\n",
    "    \n",
    "    spend_repayment_segment = spend_repayment.merge(customer_acquisition[['Customer', 'Segment']], on='Customer', how='left')\n",
    "    segment_profit = spend_repayment_segment.groupby('Segment').agg({'Profit': 'sum'}).reset_index()\n",
    "    print(\"Most profitable segment:\")\n",
    "    print(segment_profit)\n",
    "\n",
    "    # 9. In which category the customers are spending more money\n",
    "    category_spending = spend.groupby('Type').agg({'Amount': 'sum'}).reset_index()\n",
    "    print(\"Category spending:\")\n",
    "    print(category_spending)\n",
    "\n",
    "    # 10. Monthly profit for the bank\n",
    "    monthly_profit = spend_repayment.groupby('Month').agg({'Profit': 'sum'}).reset_index()\n",
    "    print(\"Monthly profit for the bank:\")\n",
    "    print(monthly_profit)\n",
    "\n",
    "else:\n",
    "    print(\"Some required columns are missing. Please check the data and column names.\")"
   ]
  },
  {
   "cell_type": "code",
   "execution_count": 23,
   "id": "39c10b26",
   "metadata": {},
   "outputs": [
    {
     "name": "stdout",
     "output_type": "stream",
     "text": [
      "Analysis complete. Results saved to Credit_Analysis_Output_Final.xlsx.\n"
     ]
    }
   ],
   "source": [
    "# Save results to Excel\n",
    "with pd.ExcelWriter('Credit_Analysis_Output_Final.xlsx') as writer:\n",
    "    monthly_spend.to_excel(writer, sheet_name='Monthly_Spend', index=False)\n",
    "    monthly_repayment.to_excel(writer, sheet_name='Monthly_Repayment', index=False)\n",
    "    highest_paying_customers.to_excel(writer, sheet_name='Highest_Paying_Customers', index=False)\n",
    "    segment_spending.to_excel(writer, sheet_name='Segment_Spending', index=False)\n",
    "    age_group_spending.to_excel(writer, sheet_name='Age_Group_Spending', index=False)\n",
    "    segment_profit.to_excel(writer, sheet_name='Segment_Profit', index=False)\n",
    "    category_spending.to_excel(writer, sheet_name='Category_Spending', index=False)\n",
    "    monthly_profit.to_excel(writer, sheet_name='Monthly_Profit', index=False)\n",
    "\n",
    "print(\"Analysis complete. Results saved to Credit_Analysis_Output_Final.xlsx.\")"
   ]
  },
  {
   "cell_type": "code",
   "execution_count": 35,
   "id": "089e58e5",
   "metadata": {},
   "outputs": [
    {
     "data": {
      "text/plain": [
       "Text(0, 0.5, 'Total Amount')"
      ]
     },
     "execution_count": 35,
     "metadata": {},
     "output_type": "execute_result"
    },
    {
     "data": {
      "image/png": "[encoded data removed]",
      "text/plain": [
       "<Figure size 1500x600 with 1 Axes>"
      ]
     },
     "metadata": {},
     "output_type": "display_data"
    }
   ],
   "source": [
    "# Visualize some of the findings with charts\n",
    "plt.figure(figsize=(15, 6))\n",
    "\n",
    "# Task 4: Segment spending\n",
    "plt.subplot(2, 2, 1)\n",
    "sns.barplot(data=segment_spending, x='Segment', y='Amount')\n",
    "plt.title('Segment-wise Spending')\n",
    "plt.xlabel('Segment')\n",
    "plt.ylabel('Total Amount')\n",
    "\n"
   ]
  },
  {
   "cell_type": "code",
   "execution_count": 37,
   "id": "557f9aa4",
   "metadata": {},
   "outputs": [
    {
     "data": {
      "text/plain": [
       "Text(0, 0.5, 'Total Amount')"
      ]
     },
     "execution_count": 37,
     "metadata": {},
     "output_type": "execute_result"
    },
    {
     "data": {
      "image/png": "[encoded data removed]",
      "text/plain": [
       "<Figure size 640x480 with 1 Axes>"
      ]
     },
     "metadata": {},
     "output_type": "display_data"
    }
   ],
   "source": [
    "# Task 5: Age group spending\n",
    "plt.subplot(2, 1, 1)\n",
    "sns.barplot(data=age_group_spending, x='Age Group', y='Amount')\n",
    "plt.title('Age Group-wise Spending')\n",
    "plt.xlabel('Age Group')\n",
    "plt.ylabel('Total Amount')\n"
   ]
  },
  {
   "cell_type": "code",
   "execution_count": 41,
   "id": "e9a979be",
   "metadata": {},
   "outputs": [
    {
     "data": {
      "text/plain": [
       "(array([ 0,  1,  2,  3,  4,  5,  6,  7,  8,  9, 10, 11, 12, 13, 14]),\n",
       " [Text(0, 0, 'AIR TICKET'),\n",
       "  Text(1, 0, 'AUTO'),\n",
       "  Text(2, 0, 'BIKE'),\n",
       "  Text(3, 0, 'BUS TICKET'),\n",
       "  Text(4, 0, 'CAMERA'),\n",
       "  Text(5, 0, 'CAR'),\n",
       "  Text(6, 0, 'CLOTHES'),\n",
       "  Text(7, 0, 'FOOD'),\n",
       "  Text(8, 0, 'JEWELLERY'),\n",
       "  Text(9, 0, 'MOVIE TICKET'),\n",
       "  Text(10, 0, 'PETRO'),\n",
       "  Text(11, 0, 'RENTAL'),\n",
       "  Text(12, 0, 'SANDALS'),\n",
       "  Text(13, 0, 'SHOPPING'),\n",
       "  Text(14, 0, 'TRAIN TICKET')])"
      ]
     },
     "execution_count": 41,
     "metadata": {},
     "output_type": "execute_result"
    },
    {
     "data": {
      "image/png": "[encoded data removed]",
      "text/plain": [
       "<Figure size 640x480 with 1 Axes>"
      ]
     },
     "metadata": {},
     "output_type": "display_data"
    }
   ],
   "source": [
    "# Task 7: Category spending\n",
    "plt.subplot(2, 1, 2)\n",
    "sns.barplot(data=category_spending, x='Type', y='Amount')\n",
    "plt.title('Category-wise Spending')\n",
    "plt.xlabel('Category')\n",
    "plt.ylabel('Total Amount')\n",
    "plt.xticks(rotation=45)"
   ]
  },
  {
   "cell_type": "code",
   "execution_count": 42,
   "id": "78aebbeb",
   "metadata": {},
   "outputs": [
    {
     "data": {
      "text/plain": [
       "<Figure size 640x480 with 0 Axes>"
      ]
     },
     "metadata": {},
     "output_type": "display_data"
    }
   ],
   "source": [
    "plt.tight_layout()\n",
    "plt.show()"
   ]
  },
  {
   "cell_type": "code",
   "execution_count": null,
   "id": "0470229b",
   "metadata": {},
   "outputs": [],
   "source": []
  }
 ],
 "metadata": {
  "kernelspec": {
   "display_name": "Python 3 (ipykernel)",
   "language": "python",
   "name": "python3"
  },
  "language_info": {
   "codemirror_mode": {
    "name": "ipython",
    "version": 3
   },
   "file_extension": ".py",
   "mimetype": "text/x-python",
   "name": "python",
   "nbconvert_exporter": "python",
   "pygments_lexer": "ipython3",
   "version": "3.9.13"
  }
 },
 "nbformat": 4,
 "nbformat_minor": 5
}
